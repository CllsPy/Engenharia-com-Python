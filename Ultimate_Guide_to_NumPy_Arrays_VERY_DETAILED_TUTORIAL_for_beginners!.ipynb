{
  "cells": [
    {
      "cell_type": "markdown",
      "metadata": {
        "id": "view-in-github",
        "colab_type": "text"
      },
      "source": [
        "<a href=\"https://colab.research.google.com/github/CllsPy/Engenharia-com-Python/blob/main/Ultimate_Guide_to_NumPy_Arrays_VERY_DETAILED_TUTORIAL_for_beginners!.ipynb\" target=\"_parent\"><img src=\"https://colab.research.google.com/assets/colab-badge.svg\" alt=\"Open In Colab\"/></a>"
      ]
    },
    {
      "cell_type": "markdown",
      "metadata": {
        "id": "svnnrE_QTLwv"
      },
      "source": [
        "#Ultimate Guide to NumPy\n",
        "[40 BIBLIOTECAS PYTHON](https://youtu.be/-29x_deQQus)"
      ]
    },
    {
      "cell_type": "markdown",
      "metadata": {
        "id": "_Ngp4EbZNRJq"
      },
      "source": [
        "## Importações"
      ]
    },
    {
      "cell_type": "code",
      "execution_count": 1,
      "metadata": {
        "id": "ct1_bnznAcVh"
      },
      "outputs": [],
      "source": [
        "import numpy as np\n",
        "import matplotlib.pyplot as plt"
      ]
    },
    {
      "cell_type": "markdown",
      "metadata": {
        "id": "aK1_042dTSyl"
      },
      "source": [
        "##Create N-dimensional arrays"
      ]
    },
    {
      "cell_type": "code",
      "execution_count": 2,
      "metadata": {
        "id": "OWAoPDaITWy7",
        "colab": {
          "base_uri": "https://localhost:8080/"
        },
        "outputId": "1b4a2967-6755-464e-ed3e-c181c0a166fe"
      },
      "outputs": [
        {
          "output_type": "stream",
          "name": "stdout",
          "text": [
            "[0 1 2 3 4 5 6 7 8 9]\n"
          ]
        }
      ],
      "source": [
        "my_array = np.arange(10)\n",
        "print(my_array)"
      ]
    },
    {
      "cell_type": "code",
      "execution_count": 3,
      "metadata": {
        "id": "PKYfI-mlWicP",
        "colab": {
          "base_uri": "https://localhost:8080/"
        },
        "outputId": "eb49c4a2-89a9-4ca3-c652-82d3c6ff137b"
      },
      "outputs": [
        {
          "output_type": "stream",
          "name": "stdout",
          "text": [
            "<class 'numpy.int8'>\n"
          ]
        }
      ],
      "source": [
        "from_list = np.array([1, 2, 3], dtype = np.int8)\n",
        "print(type(from_list[0]))"
      ]
    },
    {
      "cell_type": "markdown",
      "metadata": {
        "id": "ix1ZZNrIZgYJ"
      },
      "source": [
        "##2D Array"
      ]
    },
    {
      "cell_type": "code",
      "execution_count": 4,
      "metadata": {
        "colab": {
          "base_uri": "https://localhost:8080/"
        },
        "id": "S_NSdnZoZfl5",
        "outputId": "cae341db-d8f3-4105-c387-51b4e43beb73"
      },
      "outputs": [
        {
          "output_type": "stream",
          "name": "stdout",
          "text": [
            "[[ 1  2  3]\n",
            " [ 4  5  6]\n",
            " [ 7  8  9]\n",
            " [10 11 12]]\n"
          ]
        }
      ],
      "source": [
        "from_list = np.array([[1, 2, 3], [4, 5, 6], [7, 8, 9], [10, 11, 12] ],dtype = np.int8)\n",
        "print(from_list)"
      ]
    },
    {
      "cell_type": "markdown",
      "metadata": {
        "id": "Ob9mVl9jaEig"
      },
      "source": [
        "##Shape Atribute"
      ]
    },
    {
      "cell_type": "code",
      "execution_count": 5,
      "metadata": {
        "colab": {
          "base_uri": "https://localhost:8080/"
        },
        "id": "SBxiRuNMaGD0",
        "outputId": "d256ba8c-4495-45b5-f97b-9940ba7aacfb"
      },
      "outputs": [
        {
          "output_type": "stream",
          "name": "stdout",
          "text": [
            "1D (10,)\n",
            "2D (4, 3)\n"
          ]
        }
      ],
      "source": [
        "print(\"1D\", my_array.shape)\n",
        "print(\"2D\", from_list.shape)"
      ]
    },
    {
      "cell_type": "code",
      "execution_count": 6,
      "metadata": {
        "id": "0964EJsKap7l",
        "colab": {
          "base_uri": "https://localhost:8080/"
        },
        "outputId": "abc82c17-e6f4-4197-dbef-77367b80781e"
      },
      "outputs": [
        {
          "output_type": "stream",
          "name": "stdout",
          "text": [
            "1D (3000, 9)\n"
          ]
        }
      ],
      "source": [
        "import pandas as pd\n",
        "cali_house_path = \"/content/sample_data/california_housing_test.csv\"\n",
        "cali_house_data = pd.read_csv(cali_house_path)\n",
        "cali_house_data.describe()\n",
        "print(\"1D\", cali_house_data.shape)"
      ]
    },
    {
      "cell_type": "markdown",
      "metadata": {
        "id": "PngpZtN-IYjz"
      },
      "source": [
        "##Reshape arrays"
      ]
    },
    {
      "cell_type": "code",
      "execution_count": 7,
      "metadata": {
        "colab": {
          "base_uri": "https://localhost:8080/"
        },
        "id": "gzdAfT5WIZz-",
        "outputId": "eaf826e9-cad1-4429-c2c3-819032d309eb"
      },
      "outputs": [
        {
          "output_type": "stream",
          "name": "stdout",
          "text": [
            "(2, 5)\n",
            "\n",
            "\n",
            "[[0 2 4 6 8]\n",
            " [1 3 5 7 9]]\n"
          ]
        }
      ],
      "source": [
        "array_2d = np.array((np.arange(0, 10, 2), np.arange(1, 10, 2)))\n",
        "print(array_2d.shape)\n",
        "print(\"\\n\")\n",
        "print(array_2d)"
      ]
    },
    {
      "cell_type": "code",
      "execution_count": 8,
      "metadata": {
        "id": "Hq9DV_-wL7Vh",
        "colab": {
          "base_uri": "https://localhost:8080/"
        },
        "outputId": "b2d5eb64-fa51-4a77-d376-722d6d7f71e9"
      },
      "outputs": [
        {
          "output_type": "stream",
          "name": "stdout",
          "text": [
            "[[0 2]\n",
            " [4 6]\n",
            " [8 1]\n",
            " [3 5]\n",
            " [7 9]]\n"
          ]
        }
      ],
      "source": [
        "transform_2d = array_2d.reshape(5, 2)\n",
        "print(transform_2d)"
      ]
    },
    {
      "cell_type": "code",
      "execution_count": 9,
      "metadata": {
        "id": "_7891DvzOJb2",
        "colab": {
          "base_uri": "https://localhost:8080/"
        },
        "outputId": "2196cfbd-444b-43db-a1f0-1b3b4202e0ba"
      },
      "outputs": [
        {
          "output_type": "stream",
          "name": "stdout",
          "text": [
            "(1, 4)\n",
            "(4, 3)\n",
            "[['a' 'b' 'c' 'd']]\n",
            "[['a']\n",
            " ['b']\n",
            " ['c']\n",
            " ['d']]\n"
          ]
        }
      ],
      "source": [
        "target = np.array([[0, 0, 0], [0, 0, 1], [0, 1, 0], [1, 1, 0]], dtype = np.int8)\n",
        "predict = np.array([[\"a\", \"b\", \"c\", \"d\"]])\n",
        "print(predict.shape)\n",
        "print(target.shape)\n",
        "print(predict)\n",
        "re = predict.reshape(4, 1)\n",
        "print(re)"
      ]
    },
    {
      "cell_type": "markdown",
      "metadata": {
        "id": "Xf9RO6-7QN1q"
      },
      "source": [
        "## Empty Arrays"
      ]
    },
    {
      "cell_type": "code",
      "execution_count": 10,
      "metadata": {
        "id": "lLubRJRpOleR",
        "colab": {
          "base_uri": "https://localhost:8080/"
        },
        "outputId": "c3f66ef7-5b9c-417f-f70b-5ba05310cc5d"
      },
      "outputs": [
        {
          "output_type": "stream",
          "name": "stdout",
          "text": [
            "[[[0. 0. 0. 0.]\n",
            "  [0. 0. 0. 0.]\n",
            "  [0. 0. 0. 0.]\n",
            "  [0. 0. 0. 0.]]\n",
            "\n",
            " [[0. 0. 0. 0.]\n",
            "  [0. 0. 0. 0.]\n",
            "  [0. 0. 0. 0.]\n",
            "  [0. 0. 0. 0.]]\n",
            "\n",
            " [[0. 0. 0. 0.]\n",
            "  [0. 0. 0. 0.]\n",
            "  [0. 0. 0. 0.]\n",
            "  [0. 0. 0. 0.]]\n",
            "\n",
            " [[0. 0. 0. 0.]\n",
            "  [0. 0. 0. 0.]\n",
            "  [0. 0. 0. 0.]\n",
            "  [0. 0. 0. 0.]]]\n"
          ]
        }
      ],
      "source": [
        "empty_array = np.zeros((4, 4, 4))\n",
        "print(empty_array)"
      ]
    },
    {
      "cell_type": "code",
      "execution_count": 11,
      "metadata": {
        "id": "cqnKf8UI6gMs",
        "colab": {
          "base_uri": "https://localhost:8080/"
        },
        "outputId": "fa3bb16b-fb51-446e-fc75-2b2865378849"
      },
      "outputs": [
        {
          "output_type": "stream",
          "name": "stdout",
          "text": [
            "Mounted at /content/drive\n"
          ]
        }
      ],
      "source": [
        "from google.colab import drive\n",
        "drive.mount('/content/drive')"
      ]
    },
    {
      "cell_type": "markdown",
      "metadata": {
        "id": "X951DdJQSaRP"
      },
      "source": [
        "##Parte 2 [GUIA NUMPY](https://youtu.be/E1IPJOd7dWQ)"
      ]
    },
    {
      "cell_type": "code",
      "execution_count": 11,
      "metadata": {
        "id": "CiqmvRCWSeaX"
      },
      "outputs": [],
      "source": []
    },
    {
      "cell_type": "markdown",
      "metadata": {
        "id": "0WbJxGKVTcHU"
      },
      "source": [
        "# Numpy para ENGENHARIA [MR P. Solver](https://youtu.be/DcfYgePyedM)"
      ]
    },
    {
      "cell_type": "markdown",
      "metadata": {
        "id": "Np2YtuJjZCEc"
      },
      "source": [
        "##Creating Array"
      ]
    },
    {
      "cell_type": "code",
      "execution_count": 12,
      "metadata": {
        "id": "I4q2BxsdTlVB"
      },
      "outputs": [],
      "source": [
        "a1 = np.array([1, 3, 5, 6])\n",
        "a2 = np.zeros(10)\n",
        "a3 = np.ones(10)\n",
        "a4 = np.random.random(10)\n",
        "a5 = np.random.randn(10)\n",
        "a6 = np.linspace(0, 10, 200) #Zero até dez, separados em 100 elementos\n",
        "a7 = np.arange(0, 10, 0.02)"
      ]
    },
    {
      "cell_type": "markdown",
      "metadata": {
        "id": "AEyQFVU4ZD8w"
      },
      "source": [
        "## Array Operations"
      ]
    },
    {
      "cell_type": "code",
      "execution_count": 13,
      "metadata": {
        "colab": {
          "base_uri": "https://localhost:8080/"
        },
        "id": "qUCg-djRWCnd",
        "outputId": "0bc36e3a-2c37-42fc-a962-36df36c76ddc"
      },
      "outputs": [
        {
          "output_type": "stream",
          "name": "stdout",
          "text": [
            "[ 2  6 10 12]\n"
          ]
        }
      ],
      "source": [
        "op_array = a1*2 #Array\n",
        "print(op_array)"
      ]
    },
    {
      "cell_type": "code",
      "execution_count": 14,
      "metadata": {
        "colab": {
          "base_uri": "https://localhost:8080/"
        },
        "id": "05AMH6ueaS0x",
        "outputId": "fa21ad0b-fa74-455d-9b19-ecc947c11931"
      },
      "outputs": [
        {
          "output_type": "execute_result",
          "data": {
            "text/plain": [
              "array([False,  True,  True,  True])"
            ]
          },
          "metadata": {},
          "execution_count": 14
        }
      ],
      "source": [
        "a1 > 2 #Quas valores em a7 são maiores que 2."
      ]
    },
    {
      "cell_type": "code",
      "execution_count": 15,
      "metadata": {
        "id": "6_EIIZhGbk2F",
        "colab": {
          "base_uri": "https://localhost:8080/",
          "height": 430
        },
        "outputId": "9a5f6a80-d0cc-41ec-996e-bbf1e9a49d6b"
      },
      "outputs": [
        {
          "output_type": "display_data",
          "data": {
            "text/plain": [
              "<Figure size 640x480 with 1 Axes>"
            ],
            "image/png": "[encoded data removed]"
          },
          "metadata": {}
        }
      ],
      "source": [
        "eixo_x = np.linspace(0, 10, 100)\n",
        "eixo_y = eixo_x**2\n",
        "\n",
        "\n",
        "plt.plot(eixo_x, eixo_y)\n",
        "\n",
        "\n",
        "plt.show()"
      ]
    },
    {
      "cell_type": "code",
      "execution_count": 16,
      "metadata": {
        "id": "QQRl-6rjb1wY",
        "colab": {
          "base_uri": "https://localhost:8080/",
          "height": 430
        },
        "outputId": "fb225900-28d4-458d-86dd-c07fb1247383"
      },
      "outputs": [
        {
          "output_type": "display_data",
          "data": {
            "text/plain": [
              "<Figure size 640x480 with 1 Axes>"
            ],
            "image/png": "[encoded data removed]"
          },
          "metadata": {}
        }
      ],
      "source": [
        "\n",
        "plt.hist(a3)\n",
        "plt.show()"
      ]
    },
    {
      "cell_type": "code",
      "execution_count": 16,
      "metadata": {
        "id": "VRyOWq4FcYNa"
      },
      "outputs": [],
      "source": []
    },
    {
      "cell_type": "markdown",
      "metadata": {
        "id": "UDb5946cfiQ1"
      },
      "source": [
        "##Array Index/Slicing"
      ]
    },
    {
      "cell_type": "code",
      "execution_count": 17,
      "metadata": {
        "colab": {
          "base_uri": "https://localhost:8080/"
        },
        "id": "HVuXUd8Dfjjw",
        "outputId": "d2f19565-1651-4b74-e9cc-ca48816da30f"
      },
      "outputs": [
        {
          "output_type": "stream",
          "name": "stdout",
          "text": [
            "5\n"
          ]
        },
        {
          "output_type": "execute_result",
          "data": {
            "text/plain": [
              "array([1, 3, 5, 6])"
            ]
          },
          "metadata": {},
          "execution_count": 17
        }
      ],
      "source": [
        "id_a1 = a1[2]\n",
        "print(id_a1)\n",
        "a1 #array"
      ]
    },
    {
      "cell_type": "code",
      "execution_count": 18,
      "metadata": {
        "colab": {
          "base_uri": "https://localhost:8080/"
        },
        "id": "-3V4CJgpgUSQ",
        "outputId": "06cbe6fe-6ad9-47af-ef34-1b1b7cc30009"
      },
      "outputs": [
        {
          "output_type": "stream",
          "name": "stdout",
          "text": [
            "[5 6]\n"
          ]
        }
      ],
      "source": [
        "bol_id = a1[a1>3]\n",
        "print(bol_id)"
      ]
    },
    {
      "cell_type": "code",
      "execution_count": 19,
      "metadata": {
        "id": "bCNbGsjUhtsx"
      },
      "outputs": [],
      "source": [
        "names = np.array([\"Carlos\", \"Amanda\", \"Alice\", \"Duda\"])"
      ]
    },
    {
      "cell_type": "code",
      "execution_count": 20,
      "metadata": {
        "id": "clLMqxafiOBN"
      },
      "outputs": [],
      "source": [
        "first_letter_a = np.vectorize(lambda s: s[0])(names) == \"A\""
      ]
    },
    {
      "cell_type": "code",
      "execution_count": 21,
      "metadata": {
        "id": "7HZTuXxJinlY",
        "colab": {
          "base_uri": "https://localhost:8080/"
        },
        "outputId": "20660df4-efa3-4531-d209-69d5a4bfdf57"
      },
      "outputs": [
        {
          "output_type": "stream",
          "name": "stdout",
          "text": [
            "['Amanda' 'Alice']\n"
          ]
        }
      ],
      "source": [
        "print(names[first_letter_a])"
      ]
    },
    {
      "cell_type": "markdown",
      "metadata": {
        "id": "rekcQSQUj98k"
      },
      "source": [
        "## Calculus w/ Numpy Statistical Functions"
      ]
    },
    {
      "cell_type": "code",
      "execution_count": 22,
      "metadata": {
        "id": "aOani4Ufj_rZ"
      },
      "outputs": [],
      "source": [
        "a8 = 2*np.random.random(1000) + 10 #  Um array de 1000 elementos, com cada elemento sendo um número aleatório no intervalo [10, 12)."
      ]
    },
    {
      "cell_type": "code",
      "execution_count": 23,
      "metadata": {
        "id": "nALLVeaNlTan",
        "colab": {
          "base_uri": "https://localhost:8080/"
        },
        "outputId": "aa40921e-710b-4c04-9d53-4d35a7a77e6b"
      },
      "outputs": [
        {
          "output_type": "execute_result",
          "data": {
            "text/plain": [
              "10.982517440002049"
            ]
          },
          "metadata": {},
          "execution_count": 23
        }
      ],
      "source": [
        "np.mean(a8)"
      ]
    },
    {
      "cell_type": "code",
      "execution_count": 24,
      "metadata": {
        "id": "CQ1cyU8Zl7gk",
        "colab": {
          "base_uri": "https://localhost:8080/"
        },
        "outputId": "6ed56acc-949b-48c2-f5b3-b25fa16f7be5"
      },
      "outputs": [
        {
          "output_type": "execute_result",
          "data": {
            "text/plain": [
              "0.5774734296815683"
            ]
          },
          "metadata": {},
          "execution_count": 24
        }
      ],
      "source": [
        "np.std(a8)"
      ]
    },
    {
      "cell_type": "code",
      "execution_count": 25,
      "metadata": {
        "id": "9I7Iog5xmCFJ",
        "colab": {
          "base_uri": "https://localhost:8080/"
        },
        "outputId": "94c1b149-b29f-430b-cddc-16a8cc406e14"
      },
      "outputs": [
        {
          "output_type": "execute_result",
          "data": {
            "text/plain": [
              "11.595628087580568"
            ]
          },
          "metadata": {},
          "execution_count": 25
        }
      ],
      "source": [
        "np.percentile(a8, 80)"
      ]
    },
    {
      "cell_type": "markdown",
      "metadata": {
        "id": "ct2pY8LjnmUc"
      },
      "source": [
        "## Multi-Dimensional Arrays"
      ]
    },
    {
      "cell_type": "code",
      "execution_count": 25,
      "metadata": {
        "id": "KRAYpfG78Jfw"
      },
      "outputs": [],
      "source": []
    },
    {
      "cell_type": "markdown",
      "source": [
        "#Treino"
      ],
      "metadata": {
        "id": "pmiGbRMbZJ73"
      }
    },
    {
      "cell_type": "code",
      "source": [
        "array_treino = np.array([np.arange(0, 10, 1), np.arange(1, 20, 2)], dtype = np.int8)"
      ],
      "metadata": {
        "id": "xL7pucyeZK-j"
      },
      "execution_count": 26,
      "outputs": []
    },
    {
      "cell_type": "code",
      "source": [
        "print(array_treino)"
      ],
      "metadata": {
        "colab": {
          "base_uri": "https://localhost:8080/"
        },
        "id": "-WVJEUNxZYLb",
        "outputId": "19a5151b-5da5-42b0-c8e7-6a7fc34f1cd4"
      },
      "execution_count": 27,
      "outputs": [
        {
          "output_type": "stream",
          "name": "stdout",
          "text": [
            "[[ 0  1  2  3  4  5  6  7  8  9]\n",
            " [ 1  3  5  7  9 11 13 15 17 19]]\n"
          ]
        }
      ]
    },
    {
      "cell_type": "code",
      "source": [
        "array_treino.shape"
      ],
      "metadata": {
        "colab": {
          "base_uri": "https://localhost:8080/"
        },
        "id": "bFECmcRoZdS7",
        "outputId": "46285cfe-6af7-48b9-f276-230e9a952d92"
      },
      "execution_count": 28,
      "outputs": [
        {
          "output_type": "execute_result",
          "data": {
            "text/plain": [
              "(2, 10)"
            ]
          },
          "metadata": {},
          "execution_count": 28
        }
      ]
    },
    {
      "cell_type": "code",
      "source": [
        "array_treino.reshape(10, 2)"
      ],
      "metadata": {
        "id": "uw0SNDbtZzYI",
        "outputId": "bd460c74-b00a-49ed-bb50-1a6e6d21972e",
        "colab": {
          "base_uri": "https://localhost:8080/"
        }
      },
      "execution_count": 29,
      "outputs": [
        {
          "output_type": "execute_result",
          "data": {
            "text/plain": [
              "array([[ 0,  1],\n",
              "       [ 2,  3],\n",
              "       [ 4,  5],\n",
              "       [ 6,  7],\n",
              "       [ 8,  9],\n",
              "       [ 1,  3],\n",
              "       [ 5,  7],\n",
              "       [ 9, 11],\n",
              "       [13, 15],\n",
              "       [17, 19]], dtype=int8)"
            ]
          },
          "metadata": {},
          "execution_count": 29
        }
      ]
    },
    {
      "cell_type": "code",
      "source": [],
      "metadata": {
        "id": "NKnngZCTZ3gX"
      },
      "execution_count": 29,
      "outputs": []
    }
  ],
  "metadata": {
    "colab": {
      "provenance": [],
      "authorship_tag": "ABX9TyOHk1+5D3QvLji5M3CgDb4p",
      "include_colab_link": true
    },
    "kernelspec": {
      "display_name": "Python 3",
      "name": "python3"
    },
    "language_info": {
      "name": "python"
    }
  },
  "nbformat": 4,
  "nbformat_minor": 0
}